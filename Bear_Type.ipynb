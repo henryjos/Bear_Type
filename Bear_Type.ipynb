{
 "cells": [
  {
   "cell_type": "markdown",
   "id": "b2d5f367",
   "metadata": {},
   "source": [
    "\n",
    "sample codings\n",
    "1. https://github.com/QuantumAbyss/TomatoApp/blob/master/TomatoApp.ipynb\n",
    "2. https://github.com/vikbehal/FindMe/blob/master/FindYourFood.ipynb\n"
   ]
  },
  {
   "cell_type": "code",
   "execution_count": 7,
   "id": "c5782c9d",
   "metadata": {},
   "outputs": [],
   "source": [
    "#!pip install voila\n",
    "from fastai.vision.all import *\n",
    "from fastai.vision.widgets import *"
   ]
  },
  {
   "cell_type": "code",
   "execution_count": 2,
   "id": "e33c97f6",
   "metadata": {},
   "outputs": [
    {
     "data": {
      "text/plain": [
       "'Windows'"
      ]
     },
     "execution_count": 2,
     "metadata": {},
     "output_type": "execute_result"
    }
   ],
   "source": [
    "import pathlib\n",
    "#from pathlib import Path\n",
    "plt = platform.system()\n",
    "#if plt == 'Linux': pathlib.WindowsPath = pathlib.PosixPath\n",
    "if plt == 'Windows': pathlib.PosixPath = pathlib.WindowsPath\n",
    "plt"
   ]
  },
  {
   "cell_type": "code",
   "execution_count": 3,
   "id": "aa43c9f8",
   "metadata": {},
   "outputs": [],
   "source": [
    "# wolf https://forums.fast.ai/t/deploying-your-notebook-as-an-app-under-10-minutes/70621/9\n",
    "# from fastai.vision.learner import *\n",
    "path = Path()\n",
    "learn_inf = load_learner(path/\"export.pkl\", cpu=True)\n",
    "btn_upload = widgets.FileUpload()\n",
    "out_pl = widgets.Output()\n",
    "lbl_pred = widgets.Label()"
   ]
  },
  {
   "cell_type": "code",
   "execution_count": 4,
   "id": "5be5e8b5",
   "metadata": {},
   "outputs": [],
   "source": [
    "def on_click(change):\n",
    "    lbl_pred.value = ''\n",
    "    img = PILImage.create(btn_upload.data[-1])\n",
    "    out_pl.clear_output()\n",
    "    with out_pl: display(img.to_thumb(128,128))\n",
    "    pred,pred_idx,probs = learn_inf.predict(img)\n",
    "    lbl_pred.value = (f'I think it is: {pred} ({probs[pred_idx]*100:.00f})%') if (probs[pred_idx] > 0.80) else (f'Hmm, That is a difficult one. Sorry, I think it is {pred}; haha lol')"
   ]
  },
  {
   "cell_type": "code",
   "execution_count": 5,
   "id": "ef807fb3",
   "metadata": {},
   "outputs": [],
   "source": [
    "btn_upload.observe(on_click, names=['data'])"
   ]
  },
  {
   "cell_type": "code",
   "execution_count": 6,
   "id": "0ba7dc2c",
   "metadata": {},
   "outputs": [
    {
     "data": {
      "application/vnd.jupyter.widget-view+json": {
       "model_id": "87bf17a6bf65462a83b5c0adf32c9b4c",
       "version_major": 2,
       "version_minor": 0
      },
      "text/plain": [
       "VBox(children=(Label(value='Select your bear!'), FileUpload(value={}, description='Upload'), Output(), Label(v…"
      ]
     },
     "metadata": {},
     "output_type": "display_data"
    },
    {
     "data": {
      "text/html": [],
      "text/plain": [
       "<IPython.core.display.HTML object>"
      ]
     },
     "metadata": {},
     "output_type": "display_data"
    },
    {
     "data": {
      "text/html": [],
      "text/plain": [
       "<IPython.core.display.HTML object>"
      ]
     },
     "metadata": {},
     "output_type": "display_data"
    },
    {
     "data": {
      "text/html": [],
      "text/plain": [
       "<IPython.core.display.HTML object>"
      ]
     },
     "metadata": {},
     "output_type": "display_data"
    }
   ],
   "source": [
    "display(VBox([widgets.Label('Select your bear!'), btn_upload, out_pl, lbl_pred]))"
   ]
  },
  {
   "cell_type": "code",
   "execution_count": null,
   "id": "9fe35b7a",
   "metadata": {},
   "outputs": [],
   "source": []
  }
 ],
 "metadata": {
  "kernelspec": {
   "display_name": "Python 3",
   "language": "python",
   "name": "python3"
  },
  "language_info": {
   "codemirror_mode": {
    "name": "ipython",
    "version": 3
   },
   "file_extension": ".py",
   "mimetype": "text/x-python",
   "name": "python",
   "nbconvert_exporter": "python",
   "pygments_lexer": "ipython3",
   "version": "3.7.10"
  },
  "toc": {
   "base_numbering": 1,
   "nav_menu": {},
   "number_sections": true,
   "sideBar": true,
   "skip_h1_title": false,
   "title_cell": "Table of Contents",
   "title_sidebar": "Contents",
   "toc_cell": false,
   "toc_position": {},
   "toc_section_display": true,
   "toc_window_display": false
  }
 },
 "nbformat": 4,
 "nbformat_minor": 5
}
